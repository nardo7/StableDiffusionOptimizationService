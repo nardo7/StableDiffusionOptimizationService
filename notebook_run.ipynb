{
 "cells": [
  {
   "cell_type": "code",
   "execution_count": null,
   "metadata": {},
   "outputs": [],
   "source": [
    "from diffusion import experiments\n",
    "from diffusion.experiments import InferenceExperiment, InferenceExperimentConfiguration\n",
    "import logging\n",
    "import os\n",
    "\n",
    "logger = logging.getLogger(__name__)\n",
    "logger.setLevel(logging.INFO)\n",
    "logger.addHandler(logging.StreamHandler())\n",
    "\n",
    "# set notebook autoload\n",
    "%load_ext autoreload\n",
    "%autoreload 2"
   ]
  },
  {
   "cell_type": "code",
   "execution_count": 2,
   "metadata": {},
   "outputs": [
    {
     "name": "stderr",
     "output_type": "stream",
     "text": [
      "Generating experiments with factors: ['image_size', 'num_inf_steps'] and levels: [[(512, 512)], [25]]\n",
      "INFO:__main__:Generating experiments with factors: ['image_size', 'num_inf_steps'] and levels: [[(512, 512)], [25]]\n",
      "DoE: [[0. 0.]]\n",
      "INFO:__main__:DoE: [[0. 0.]]\n",
      "Loading pipeline components...: 100%|██████████| 7/7 [00:01<00:00,  4.24it/s]\n",
      "Running experiments\n",
      "\n",
      "INFO:__main__:Running experiments\n",
      "\n",
      "Running experiment: {'image_size': (512, 512), 'num_inf_steps': 25}\n",
      "INFO:__main__:Running experiment: {'image_size': (512, 512), 'num_inf_steps': 25}\n",
      "  0%|          | 0/1 [00:00<?, ?it/s]Running batch with prompt: ['a kitchen', 'space']\n",
      "INFO:__main__:Running batch with prompt: ['a kitchen', 'space']\n",
      "100%|██████████| 25/25 [00:32<00:00,  1.31s/it]\n",
      "100%|██████████| 1/1 [00:39<00:00, 39.40s/it]\n",
      "Saving results\n",
      "INFO:__main__:Saving results\n",
      "Saving results to ./inference_data/repetition_0__image_size_(512, 512)__num_inf_steps_25/results.json\n",
      "INFO:__main__:Saving results to ./inference_data/repetition_0__image_size_(512, 512)__num_inf_steps_25/results.json\n"
     ]
    }
   ],
   "source": [
    "\n",
    "\n",
    "config = InferenceExperimentConfiguration()\n",
    "\n",
    "curr_path = \"./\"\n",
    "\n",
    "config.path = os.path.join(curr_path, \"inference_data\")\n",
    "config.name = \"inference_experiment\"\n",
    "config.overwrite_results = True\n",
    "experiment = InferenceExperiment(logger, config)\n",
    "experiment.run()"
   ]
  }
 ],
 "metadata": {
  "kernelspec": {
   "display_name": "projectMSGAI",
   "language": "python",
   "name": "python3"
  },
  "language_info": {
   "codemirror_mode": {
    "name": "ipython",
    "version": 3
   },
   "file_extension": ".py",
   "mimetype": "text/x-python",
   "name": "python",
   "nbconvert_exporter": "python",
   "pygments_lexer": "ipython3",
   "version": "3.11.10"
  }
 },
 "nbformat": 4,
 "nbformat_minor": 2
}
