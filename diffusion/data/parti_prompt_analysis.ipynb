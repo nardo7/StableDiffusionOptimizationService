{
 "cells": [
  {
   "cell_type": "code",
   "execution_count": 1,
   "metadata": {},
   "outputs": [
    {
     "name": "stderr",
     "output_type": "stream",
     "text": [
      "/opt/miniconda3/envs/projectMSGAI/lib/python3.11/site-packages/tqdm/auto.py:21: TqdmWarning: IProgress not found. Please update jupyter and ipywidgets. See https://ipywidgets.readthedocs.io/en/stable/user_install.html\n",
      "  from .autonotebook import tqdm as notebook_tqdm\n"
     ]
    }
   ],
   "source": [
    "import pandas as pd\n",
    "import numpy as np\n",
    "import matplotlib.pyplot as plt\n",
    "import datasets\n"
   ]
  },
  {
   "cell_type": "code",
   "execution_count": 2,
   "metadata": {},
   "outputs": [
    {
     "name": "stdout",
     "output_type": "stream",
     "text": [
      "     Prompt  Category Challenge  \\\n",
      "0      bond  Abstract     Basic   \n",
      "1   element  Abstract     Basic   \n",
      "2  molecule  Abstract     Basic   \n",
      "3      life  Abstract     Basic   \n",
      "4   protein  Abstract     Basic   \n",
      "\n",
      "                                               Note  \n",
      "0  Biology-inspired concepts with multiple meanings  \n",
      "1  Biology-inspired concepts with multiple meanings  \n",
      "2  Biology-inspired concepts with multiple meanings  \n",
      "3  Biology-inspired concepts with multiple meanings  \n",
      "4  Biology-inspired concepts with multiple meanings  \n"
     ]
    }
   ],
   "source": [
    "# load dataseet\n",
    "df = pd.read_csv('PartiPrompts.tsv', sep='\\t')\n",
    "\n",
    "print(df.head())"
   ]
  },
  {
   "cell_type": "code",
   "execution_count": 3,
   "metadata": {},
   "outputs": [
    {
     "name": "stdout",
     "output_type": "stream",
     "text": [
      "Index(['Prompt', 'Category', 'Challenge', 'Note'], dtype='object')\n"
     ]
    }
   ],
   "source": [
    "print(df.columns)"
   ]
  },
  {
   "cell_type": "code",
   "execution_count": 4,
   "metadata": {},
   "outputs": [
    {
     "name": "stdout",
     "output_type": "stream",
     "text": [
      "Categories: 12\n",
      "Challenges: 11\n"
     ]
    }
   ],
   "source": [
    "# get the number of categories and challenges\n",
    "print(f\"Categories: {len(df['Category'].unique())}\")\n",
    "print(f\"Challenges: {len(df['Challenge'].unique())}\")"
   ]
  },
  {
   "cell_type": "code",
   "execution_count": 5,
   "metadata": {},
   "outputs": [
    {
     "name": "stdout",
     "output_type": "stream",
     "text": [
      "Challenge\n",
      "Basic                       12\n",
      "Complex                     11\n",
      "Fine-grained Detail         11\n",
      "Imagination                 12\n",
      "Linguistic Structures       10\n",
      "Perspective                  9\n",
      "Properties & Positioning     4\n",
      "Quantity                    10\n",
      "Simple Detail               10\n",
      "Style & Format              11\n",
      "Writing & Symbols            8\n",
      "Name: Category, dtype: int64\n"
     ]
    }
   ],
   "source": [
    "# get the number of categories per challenge\n",
    "print(df.groupby('Challenge')['Category'].nunique())"
   ]
  },
  {
   "cell_type": "code",
   "execution_count": 6,
   "metadata": {},
   "outputs": [
    {
     "data": {
      "text/html": [
       "<div>\n",
       "<style scoped>\n",
       "    .dataframe tbody tr th:only-of-type {\n",
       "        vertical-align: middle;\n",
       "    }\n",
       "\n",
       "    .dataframe tbody tr th {\n",
       "        vertical-align: top;\n",
       "    }\n",
       "\n",
       "    .dataframe thead th {\n",
       "        text-align: right;\n",
       "    }\n",
       "</style>\n",
       "<table border=\"1\" class=\"dataframe\">\n",
       "  <thead>\n",
       "    <tr style=\"text-align: right;\">\n",
       "      <th></th>\n",
       "      <th>Prompt</th>\n",
       "      <th>Challenge</th>\n",
       "      <th>Note</th>\n",
       "    </tr>\n",
       "    <tr>\n",
       "      <th>Category</th>\n",
       "      <th></th>\n",
       "      <th></th>\n",
       "      <th></th>\n",
       "    </tr>\n",
       "  </thead>\n",
       "  <tbody>\n",
       "    <tr>\n",
       "      <th>Abstract</th>\n",
       "      <td>51</td>\n",
       "      <td>51</td>\n",
       "      <td>29</td>\n",
       "    </tr>\n",
       "    <tr>\n",
       "      <th>Animals</th>\n",
       "      <td>314</td>\n",
       "      <td>314</td>\n",
       "      <td>40</td>\n",
       "    </tr>\n",
       "    <tr>\n",
       "      <th>Artifacts</th>\n",
       "      <td>287</td>\n",
       "      <td>287</td>\n",
       "      <td>28</td>\n",
       "    </tr>\n",
       "    <tr>\n",
       "      <th>Arts</th>\n",
       "      <td>66</td>\n",
       "      <td>66</td>\n",
       "      <td>7</td>\n",
       "    </tr>\n",
       "    <tr>\n",
       "      <th>Food &amp; Beverage</th>\n",
       "      <td>74</td>\n",
       "      <td>74</td>\n",
       "      <td>5</td>\n",
       "    </tr>\n",
       "    <tr>\n",
       "      <th>Illustrations</th>\n",
       "      <td>124</td>\n",
       "      <td>124</td>\n",
       "      <td>17</td>\n",
       "    </tr>\n",
       "    <tr>\n",
       "      <th>Indoor Scenes</th>\n",
       "      <td>40</td>\n",
       "      <td>40</td>\n",
       "      <td>3</td>\n",
       "    </tr>\n",
       "    <tr>\n",
       "      <th>Outdoor Scenes</th>\n",
       "      <td>131</td>\n",
       "      <td>131</td>\n",
       "      <td>17</td>\n",
       "    </tr>\n",
       "    <tr>\n",
       "      <th>People</th>\n",
       "      <td>177</td>\n",
       "      <td>177</td>\n",
       "      <td>17</td>\n",
       "    </tr>\n",
       "    <tr>\n",
       "      <th>Produce &amp; Plants</th>\n",
       "      <td>50</td>\n",
       "      <td>50</td>\n",
       "      <td>8</td>\n",
       "    </tr>\n",
       "    <tr>\n",
       "      <th>Vehicles</th>\n",
       "      <td>104</td>\n",
       "      <td>104</td>\n",
       "      <td>7</td>\n",
       "    </tr>\n",
       "    <tr>\n",
       "      <th>World Knowledge</th>\n",
       "      <td>214</td>\n",
       "      <td>214</td>\n",
       "      <td>12</td>\n",
       "    </tr>\n",
       "  </tbody>\n",
       "</table>\n",
       "</div>"
      ],
      "text/plain": [
       "                  Prompt  Challenge  Note\n",
       "Category                                 \n",
       "Abstract              51         51    29\n",
       "Animals              314        314    40\n",
       "Artifacts            287        287    28\n",
       "Arts                  66         66     7\n",
       "Food & Beverage       74         74     5\n",
       "Illustrations        124        124    17\n",
       "Indoor Scenes         40         40     3\n",
       "Outdoor Scenes       131        131    17\n",
       "People               177        177    17\n",
       "Produce & Plants      50         50     8\n",
       "Vehicles             104        104     7\n",
       "World Knowledge      214        214    12"
      ]
     },
     "metadata": {},
     "output_type": "display_data"
    }
   ],
   "source": [
    "display(df.groupby('Category').count())"
   ]
  },
  {
   "cell_type": "code",
   "execution_count": 7,
   "metadata": {},
   "outputs": [
    {
     "name": "stdout",
     "output_type": "stream",
     "text": [
      "Prompt          0\n",
      "Category        0\n",
      "Challenge       0\n",
      "Note         1442\n",
      "dtype: int64\n",
      "Prompt       0\n",
      "Category     0\n",
      "Challenge    0\n",
      "Note         0\n",
      "dtype: int64\n"
     ]
    }
   ],
   "source": [
    "# find how many None values are in each column\n",
    "print(df.isnull().sum())\n",
    "\n",
    "# replace None values with empty string\n",
    "df = df.fillna('')\n",
    "print(df.isnull().sum())"
   ]
  },
  {
   "cell_type": "code",
   "execution_count": null,
   "metadata": {},
   "outputs": [
    {
     "name": "stdout",
     "output_type": "stream",
     "text": [
      "                  Prompt  Challenge  Note\n",
      "Category                                 \n",
      "Abstract              10         10    10\n",
      "Animals               10         10    10\n",
      "Artifacts             10         10    10\n",
      "Arts                  10         10    10\n",
      "Food & Beverage       10         10    10\n",
      "Illustrations         10         10    10\n",
      "Indoor Scenes         10         10    10\n",
      "Outdoor Scenes        10         10    10\n",
      "People                10         10    10\n",
      "Produce & Plants      10         10    10\n",
      "Vehicles              10         10    10\n",
      "World Knowledge       10         10    10\n"
     ]
    },
    {
     "name": "stderr",
     "output_type": "stream",
     "text": [
      "Saving the dataset (1/1 shards): 100%|██████████| 1632/1632 [00:00<00:00, 296350.51 examples/s]\n"
     ]
    }
   ],
   "source": [
    "# create dataset with 10 promts per category\n",
    "df2 = df.groupby('Category').head(10)\n",
    "print(df2.groupby('Category').count())\n",
    "datasets.Dataset.from_pandas(df2, preserve_index=False).save_to_disk(\"./PartiPrompts_120\")\n",
    "datasets.Dataset.from_pandas(df, preserve_index=False).save_to_disk(\"./PartiPrompts\")\n",
    "\n"
   ]
  },
  {
   "cell_type": "code",
   "execution_count": 35,
   "metadata": {},
   "outputs": [],
   "source": [
    "dataset = datasets.load_from_disk('./PartiPrompts_120')\n",
    "# dataset = dataset.set_format(type='torch', columns=['Prompt'])"
   ]
  },
  {
   "cell_type": "code",
   "execution_count": null,
   "metadata": {},
   "outputs": [
    {
     "name": "stdout",
     "output_type": "stream",
     "text": [
      "{'Prompt': ['a kitchen'], 'Category': ['Indoor Scenes'], 'Challenge': ['Basic'], 'Note': ['']}\n"
     ]
    },
    {
     "data": {
      "text/plain": [
       "1"
      ]
     },
     "execution_count": 43,
     "metadata": {},
     "output_type": "execute_result"
    }
   ],
   "source": [
    "from torch.utils.data import DataLoader\n",
    "from utils import create_sub_dataset\n",
    "import math\n",
    "sub_dataset = create_sub_dataset(dataset, 2)\n",
    "\n",
    "dataloader = DataLoader(sub_dataset, batch_size=1, shuffle=False)\n",
    "for batch in dataloader:\n",
    "    print(batch)\n",
    "    break\n"
   ]
  }
 ],
 "metadata": {
  "kernelspec": {
   "display_name": "projectMSGAI",
   "language": "python",
   "name": "python3"
  },
  "language_info": {
   "codemirror_mode": {
    "name": "ipython",
    "version": 3
   },
   "file_extension": ".py",
   "mimetype": "text/x-python",
   "name": "python",
   "nbconvert_exporter": "python",
   "pygments_lexer": "ipython3",
   "version": "3.11.11"
  }
 },
 "nbformat": 4,
 "nbformat_minor": 2
}
